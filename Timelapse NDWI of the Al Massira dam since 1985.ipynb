{
 "cells": [
  {
   "cell_type": "code",
   "execution_count": 11,
   "metadata": {},
   "outputs": [],
   "source": [
    "import geemap\n",
    "import ee"
   ]
  },
  {
   "cell_type": "code",
   "execution_count": 13,
   "metadata": {},
   "outputs": [
    {
     "data": {
      "application/vnd.jupyter.widget-view+json": {
       "model_id": "a427a6c66b6f4bc2bae34631bb4136f5",
       "version_major": 2,
       "version_minor": 0
      },
      "text/plain": [
       "Map(center=[40, -100], controls=(WidgetControl(options=['position'], widget=HBox(children=(ToggleButton(value=…"
      ]
     },
     "metadata": {},
     "output_type": "display_data"
    }
   ],
   "source": [
    "Map=geemap.Map()\n",
    "Map"
   ]
  },
  {
   "cell_type": "code",
   "execution_count": 20,
   "metadata": {},
   "outputs": [],
   "source": [
    "#Area of Interest\n",
    "AOI= ee.Geometry.Rectangle([-7.378910,32.378995,-7.689293,32.527213])\n",
    "Map.centerObject(AOI,12)"
   ]
  },
  {
   "cell_type": "code",
   "execution_count": 25,
   "metadata": {},
   "outputs": [
    {
     "name": "stdout",
     "output_type": "stream",
     "text": [
      "Generating URL...\n",
      "Downloading GIF image from https://earthengine.googleapis.com/v1alpha/projects/earthengine-legacy/videoThumbnails/bc9f650fc9d03c560c718e6f169612cb-3e81a1530ae6a5c0e9f11a40f566a202:getPixels\n",
      "Please wait ...\n",
      "The GIF image has been saved to: C:\\Users\\Nabil el khatri\\Downloads\\landsat_ts_uzf.gif\n",
      "Generating URL...\n",
      "Downloading GIF image from https://earthengine.googleapis.com/v1alpha/projects/earthengine-legacy/videoThumbnails/8edcbc5e3c3171f5a9e8f66fabc9de5e-3fc639d1a987ec86b392fa241efe9cb6:getPixels\n",
      "Please wait ...\n",
      "The GIF image has been saved to: C:\\Users\\Nabil el khatri\\Downloads\\landsat_ts_uzf_nd.gif\n",
      "Adding animated text to GIF ...\n",
      "Adding GIF to the map ...\n",
      "The timelapse has been added to the map.\n"
     ]
    }
   ],
   "source": [
    "#Creat a real and NDWI's timelapse to show the barrage evolution\n",
    "label = 'Evolution du barrage Al Massira depuis 1985'\n",
    "Map.add_landsat_ts_gif(label= label, bands=['Red', 'Green', 'Blue'], nd_bands=['NIR', 'SWIR1'], nd_palette=['black','blue'], nd_threshold=0.3,roi=AOI, start_year=1985, start_date='01-01', end_date='10-31', frames_per_second=5, progress_bar_color='blue')\n"
   ]
  },
  {
   "cell_type": "code",
   "execution_count": 26,
   "metadata": {},
   "outputs": [],
   "source": [
    "legend_keys = ['eau','sol']\n",
    "\n",
    "legend_colors = ['#0000FF','#000000']\n",
    "\n",
    "Map.add_legend(legend_keys=legend_keys, legend_colors=legend_colors, position='bottomleft')"
   ]
  }
 ],
 "metadata": {
  "kernelspec": {
   "display_name": "Python 3",
   "language": "python",
   "name": "python3"
  },
  "language_info": {
   "codemirror_mode": {
    "name": "ipython",
    "version": 3
   },
   "file_extension": ".py",
   "mimetype": "text/x-python",
   "name": "python",
   "nbconvert_exporter": "python",
   "pygments_lexer": "ipython3",
   "version": "3.8.3"
  }
 },
 "nbformat": 4,
 "nbformat_minor": 4
}
